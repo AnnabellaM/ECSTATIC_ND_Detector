{
 "cells": [
  {
   "cell_type": "code",
   "execution_count": 1,
   "outputs": [
    {
     "data": {
      "text/plain": "array(['1-object-1-type-sensitive+heap/1-type-sensitive+heap',\n       '1-object-1-type-sensitive+heap/1-object-sensitive+heap',\n       '1-call-site-sensitive+heap/1-call-site-sensitive',\n       '1-object-sensitive/1-type-sensitive',\n       '2-object-sensitive+2-heap/2-object-sensitive+heap',\n       '3-object-sensitive+3-heap/2-object-sensitive+2-heap',\n       '3-object-sensitive+3-heap/3-type-sensitive+3-heap',\n       '1-type-sensitive+heap/1-type-sensitive',\n       '2-object-sensitive+heap/1-object-1-type-sensitive+heap',\n       '2-object-sensitive+heap/2-type-sensitive+heap',\n       '1-object-sensitive+heap/1-object-sensitive',\n       '1-object-sensitive+heap/1-type-sensitive+heap'], dtype=object)"
     },
     "execution_count": 1,
     "metadata": {},
     "output_type": "execute_result"
    }
   ],
   "source": [
    "import pandas as pd\n",
    "df = pd.read_csv(\"/home/austin/20220831_final_results.csv\")\n",
    "df = df.set_axis(['tool', 'program_set', 'seed', 'campaign', 'violation', 'direct', 'config1', 'config2', 'partial_order','program'], axis=1)\n",
    "df = df[(df['seed'] == \"NONE\") | (df['seed'] == \"18331\")]\n",
    "(df := df[~(df.partial_order.str.contains('NO_STRING_CONSTANT'))])\n",
    "((filtered := df[df.tool == 'doop'].partial_order.str.split('/', expand=True))[1] + \"/\" + filtered[3]).unique()"
   ],
   "metadata": {
    "collapsed": false,
    "pycharm": {
     "name": "#%%\n"
    }
   }
  },
  {
   "cell_type": "code",
   "execution_count": 2,
   "outputs": [
    {
     "data": {
      "text/plain": "tool            doop  flowdroid  soot  wala  All\nprogram_set                                     \nmicrobenchmark   NaN       28.0   3.0   NaN   31\nreal-world      12.0        9.0  18.0   9.0   48\nAll             12.0       35.0  18.0   9.0   74",
      "text/html": "<div>\n<style scoped>\n    .dataframe tbody tr th:only-of-type {\n        vertical-align: middle;\n    }\n\n    .dataframe tbody tr th {\n        vertical-align: top;\n    }\n\n    .dataframe thead th {\n        text-align: right;\n    }\n</style>\n<table border=\"1\" class=\"dataframe\">\n  <thead>\n    <tr style=\"text-align: right;\">\n      <th>tool</th>\n      <th>doop</th>\n      <th>flowdroid</th>\n      <th>soot</th>\n      <th>wala</th>\n      <th>All</th>\n    </tr>\n    <tr>\n      <th>program_set</th>\n      <th></th>\n      <th></th>\n      <th></th>\n      <th></th>\n      <th></th>\n    </tr>\n  </thead>\n  <tbody>\n    <tr>\n      <th>microbenchmark</th>\n      <td>NaN</td>\n      <td>28.0</td>\n      <td>3.0</td>\n      <td>NaN</td>\n      <td>31</td>\n    </tr>\n    <tr>\n      <th>real-world</th>\n      <td>12.0</td>\n      <td>9.0</td>\n      <td>18.0</td>\n      <td>9.0</td>\n      <td>48</td>\n    </tr>\n    <tr>\n      <th>All</th>\n      <td>12.0</td>\n      <td>35.0</td>\n      <td>18.0</td>\n      <td>9.0</td>\n      <td>74</td>\n    </tr>\n  </tbody>\n</table>\n</div>"
     },
     "execution_count": 2,
     "metadata": {},
     "output_type": "execute_result"
    }
   ],
   "source": [
    "transform = df.replace({'cats-microbenchmark':'microbenchmark','droidbench':'microbenchmark','dacapo-2006':'real-world','fossdroid':'real-world'})\n",
    "pvt = pd.pivot_table(transform, index='program_set', values='partial_order', columns=['tool'], aggfunc=lambda x: len(x.unique()), margins=True)\n",
    "pvt"
   ],
   "metadata": {
    "collapsed": false,
    "pycharm": {
     "name": "#%%\n"
    }
   }
  },
  {
   "cell_type": "markdown",
   "source": [],
   "metadata": {
    "collapsed": false,
    "pycharm": {
     "name": "#%% md\n"
    }
   }
  },
  {
   "cell_type": "code",
   "execution_count": 3,
   "outputs": [
    {
     "data": {
      "text/plain": "tool            flowdroid  wala  All\nprogram_set                         \nmicrobenchmark        2.0   NaN    2\nreal-world            5.0   3.0    8\nAll                   6.0   3.0    9",
      "text/html": "<div>\n<style scoped>\n    .dataframe tbody tr th:only-of-type {\n        vertical-align: middle;\n    }\n\n    .dataframe tbody tr th {\n        vertical-align: top;\n    }\n\n    .dataframe thead th {\n        text-align: right;\n    }\n</style>\n<table border=\"1\" class=\"dataframe\">\n  <thead>\n    <tr style=\"text-align: right;\">\n      <th>tool</th>\n      <th>flowdroid</th>\n      <th>wala</th>\n      <th>All</th>\n    </tr>\n    <tr>\n      <th>program_set</th>\n      <th></th>\n      <th></th>\n      <th></th>\n    </tr>\n  </thead>\n  <tbody>\n    <tr>\n      <th>microbenchmark</th>\n      <td>2.0</td>\n      <td>NaN</td>\n      <td>2</td>\n    </tr>\n    <tr>\n      <th>real-world</th>\n      <td>5.0</td>\n      <td>3.0</td>\n      <td>8</td>\n    </tr>\n    <tr>\n      <th>All</th>\n      <td>6.0</td>\n      <td>3.0</td>\n      <td>9</td>\n    </tr>\n  </tbody>\n</table>\n</div>"
     },
     "execution_count": 3,
     "metadata": {},
     "output_type": "execute_result"
    }
   ],
   "source": [
    "only_default = df[(df.seed == 'NONE') & ~(df.campaign.str.startswith('full'))]\n",
    "transform = df.replace({'cats-microbenchmark':'microbenchmark','droidbench':'microbenchmark','dacapo-2006':'real-world','fossdroid':'real-world'})\n",
    "transform = transform[(transform.seed != 'NONE')]\n",
    "transform = transform[~transform.campaign.str.startswith('full')]\n",
    "# transform = transform[~transform.partial_order.isin(only_default.partial_order)]\n",
    "pvt = pd.pivot_table(transform, index='program_set', values='partial_order', columns=['tool'], aggfunc=lambda x: len(x.unique()), margins=True)\n",
    "pvt"
   ],
   "metadata": {
    "collapsed": false,
    "pycharm": {
     "name": "#%%\n"
    }
   }
  },
  {
   "cell_type": "code",
   "execution_count": 4,
   "outputs": [
    {
     "data": {
      "text/plain": "array(['cgalgo/NOBJ/MPT/ZEROONE_CFA/ZEROONE_CFA/MST/NOBJ',\n       'reflectionSetting/NO_FLOW_TO_CASTS/MST/NO_FLOW_TO_CASTS_NO_METHOD_INVOKE/NO_FLOW_TO_CASTS_NO_METHOD_INVOKE/MPT/NO_FLOW_TO_CASTS',\n       'reflectionSetting/NO_FLOW_TO_CASTS/MST/STRING_ONLY/STRING_ONLY/MPT/NO_FLOW_TO_CASTS',\n       'cgalgo/NCFA/MPT/ZEROONE_CFA/ZEROONE_CFA/MST/NCFA',\n       'reflectionSetting/FULL/MST/NO_METHOD_INVOKE/NO_METHOD_INVOKE/MPT/FULL',\n       'reflectionSetting/FULL/MST/APPLICATION_GET_METHOD/APPLICATION_GET_METHOD/MPT/FULL',\n       'reflectionSetting/NO_FLOW_TO_CASTS_APPLICATION_GET_METHOD/MST/STRING_ONLY/STRING_ONLY/MPT/NO_FLOW_TO_CASTS_APPLICATION_GET_METHOD',\n       'reflectionSetting/STRING_ONLY/MST/NONE/NONE/MPT/STRING_ONLY',\n       'reflectionSetting/NO_FLOW_TO_CASTS/MST/NO_FLOW_TO_CASTS_APPLICATION_GET_METHOD/NO_FLOW_TO_CASTS_APPLICATION_GET_METHOD/MPT/NO_FLOW_TO_CASTS'],\n      dtype=object)"
     },
     "execution_count": 4,
     "metadata": {},
     "output_type": "execute_result"
    }
   ],
   "source": [
    "df[(df.tool == 'wala') & (df.program_set == 'dacapo-2006')].partial_order.unique()"
   ],
   "metadata": {
    "collapsed": false,
    "pycharm": {
     "name": "#%%\n"
    }
   }
  },
  {
   "cell_type": "code",
   "execution_count": 5,
   "outputs": [
    {
     "data": {
      "text/plain": "Empty DataFrame\nColumns: [tool, program_set, seed, campaign, violation, direct, config1, config2, partial_order, program]\nIndex: []",
      "text/html": "<div>\n<style scoped>\n    .dataframe tbody tr th:only-of-type {\n        vertical-align: middle;\n    }\n\n    .dataframe tbody tr th {\n        vertical-align: top;\n    }\n\n    .dataframe thead th {\n        text-align: right;\n    }\n</style>\n<table border=\"1\" class=\"dataframe\">\n  <thead>\n    <tr style=\"text-align: right;\">\n      <th></th>\n      <th>tool</th>\n      <th>program_set</th>\n      <th>seed</th>\n      <th>campaign</th>\n      <th>violation</th>\n      <th>direct</th>\n      <th>config1</th>\n      <th>config2</th>\n      <th>partial_order</th>\n      <th>program</th>\n    </tr>\n  </thead>\n  <tbody>\n  </tbody>\n</table>\n</div>"
     },
     "execution_count": 5,
     "metadata": {},
     "output_type": "execute_result"
    }
   ],
   "source": [
    "transform[(transform['seed'] == 'NONE') & (transform.campaign.str.startswith('full'))]"
   ],
   "metadata": {
    "collapsed": false,
    "pycharm": {
     "name": "#%%\n"
    }
   }
  },
  {
   "cell_type": "code",
   "execution_count": 97,
   "outputs": [
    {
     "data": {
      "text/plain": "<Figure size 432x288 with 1 Axes>",
      "image/png": "[encoded data removed]"
     },
     "metadata": {
      "needs_background": "light"
     },
     "output_type": "display_data"
    }
   ],
   "source": [
    "import matplotlib.pyplot as plt\n",
    "plt.close(\"all\")\n",
    "\n",
    "plt.rc(\"font\", size=12)\n",
    "\n",
    "fig, ax = plt.subplots()\n",
    "\n",
    "to_plot = df[[\"partial_order\",\"program_set\"]]\n",
    "to_plot = to_plot.replace({\"cats-microbenchmark\":\"microbenchmark\",\"fossdroid\":\"real_world\",\"droidbench\":\"microbenchmark\",\"dacapo-2006\":\"real_world\"})\n",
    "pvt = to_plot.pivot_table(index=\"partial_order\", columns=\"program_set\", values=\"partial_order\", aggfunc=lambda x: len(x)).fillna(0)\n",
    "pvt['total'] = pvt.microbenchmark + pvt.real_world\n",
    "pvt = pvt.sort_values('total')\n",
    "ax.bar(pvt.index, pvt.microbenchmark, label=\"Microbenchmark\")\n",
    "ax.bar(pvt.index, pvt['real_world'], label=\"Real-World\")\n",
    "\n",
    "ax.set_xticklabels(\"\")\n",
    "ax.set_yticks(range(0, 22, 2))\n",
    "ax.set_xlabel(\"Partial Order Bugs\")\n",
    "ax.set_ylabel(\"Number of Programs\")\n",
    "ax.legend()\n",
    "plt.show()\n",
    "fig.savefig(\"/home/austin/git/ECSTATIC_paper/figs/programs_vs_partial_orders.pdf\", format='pdf')"
   ],
   "metadata": {
    "collapsed": false,
    "pycharm": {
     "name": "#%%\n"
    }
   }
  },
  {
   "cell_type": "code",
   "execution_count": 6,
   "outputs": [],
   "source": [],
   "metadata": {
    "collapsed": false,
    "pycharm": {
     "name": "#%%\n"
    }
   }
  }
 ],
 "metadata": {
  "kernelspec": {
   "display_name": "Python 3",
   "language": "python",
   "name": "python3"
  },
  "language_info": {
   "codemirror_mode": {
    "name": "ipython",
    "version": 2
   },
   "file_extension": ".py",
   "mimetype": "text/x-python",
   "name": "python",
   "nbconvert_exporter": "python",
   "pygments_lexer": "ipython2",
   "version": "2.7.6"
  }
 },
 "nbformat": 4,
 "nbformat_minor": 0
}